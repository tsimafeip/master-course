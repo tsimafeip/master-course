{
 "cells": [
  {
   "cell_type": "markdown",
   "metadata": {
    "colab_type": "text",
    "id": "a9GPqWWhx28F"
   },
   "source": [
    "## 1) Модель на основе tf-idf и bag of word векторизации"
   ]
  },
  {
   "cell_type": "code",
   "execution_count": 0,
   "metadata": {
    "colab": {},
    "colab_type": "code",
    "id": "62tpAkisx2Px"
   },
   "outputs": [],
   "source": [
    "import pandas as pd\n",
    "import numpy as np\n",
    "import time\n",
    "import re\n",
    "\n",
    "import matplotlib.pyplot as plt\n",
    "\n",
    "from sklearn.linear_model import LogisticRegression\n",
    "from sklearn.feature_extraction.text import TfidfVectorizer, CountVectorizer\n",
    "from sklearn.model_selection import train_test_split\n",
    "from tensorflow.keras.metrics import MeanAbsoluteError\n",
    "\n",
    "import nltk\n",
    "from nltk.corpus import words, wordnet, stopwords\n",
    "from nltk.stem import WordNetLemmatizer"
   ]
  },
  {
   "cell_type": "code",
   "execution_count": 4,
   "metadata": {
    "colab": {
     "base_uri": "https://localhost:8080/",
     "height": 185
    },
    "colab_type": "code",
    "id": "F1ER6rzg17N9",
    "outputId": "60056943-ab68-4345-f3a6-cfaeb1707409"
   },
   "outputs": [
    {
     "name": "stdout",
     "output_type": "stream",
     "text": [
      "[nltk_data] Downloading package punkt to /root/nltk_data...\n",
      "[nltk_data]   Unzipping tokenizers/punkt.zip.\n",
      "[nltk_data] Downloading package averaged_perceptron_tagger to\n",
      "[nltk_data]     /root/nltk_data...\n",
      "[nltk_data]   Unzipping taggers/averaged_perceptron_tagger.zip.\n",
      "[nltk_data] Downloading package wordnet to /root/nltk_data...\n",
      "[nltk_data]   Unzipping corpora/wordnet.zip.\n",
      "[nltk_data] Downloading package stopwords to /root/nltk_data...\n",
      "[nltk_data]   Unzipping corpora/stopwords.zip.\n"
     ]
    },
    {
     "data": {
      "text/plain": [
       "True"
      ]
     },
     "execution_count": 4,
     "metadata": {
      "tags": []
     },
     "output_type": "execute_result"
    }
   ],
   "source": [
    "nltk.download('punkt')\n",
    "nltk.download('averaged_perceptron_tagger')\n",
    "nltk.download('wordnet')\n",
    "nltk.download('stopwords')"
   ]
  },
  {
   "cell_type": "code",
   "execution_count": 0,
   "metadata": {
    "colab": {},
    "colab_type": "code",
    "id": "yEHB9kdTx83B"
   },
   "outputs": [],
   "source": [
    "data_path = '/content/drive/My Drive/Colab Notebooks/hsemath2020reviews/'\n",
    "\n",
    "train_path = data_path + 'train.csv'\n",
    "test_path = data_path + 'test.csv'\n",
    "sample_path = data_path + 'sample_submission.csv'"
   ]
  },
  {
   "cell_type": "code",
   "execution_count": 0,
   "metadata": {
    "colab": {},
    "colab_type": "code",
    "id": "lvWKvhZkyY4X"
   },
   "outputs": [],
   "source": [
    "X_train = pd.read_csv(train_path)\n",
    "X_test = pd.read_csv(test_path)"
   ]
  },
  {
   "cell_type": "code",
   "execution_count": 7,
   "metadata": {
    "colab": {
     "base_uri": "https://localhost:8080/",
     "height": 50
    },
    "colab_type": "code",
    "id": "YZaWd1pizeXb",
    "outputId": "82367f9d-b878-4f4d-cf84-d9dd0d0cce35"
   },
   "outputs": [
    {
     "name": "stdout",
     "output_type": "stream",
     "text": [
      "Training set dimension: (100000, 4)\n",
      "Test set dimension: (20000, 3)\n"
     ]
    }
   ],
   "source": [
    "print('Training set dimension:', X_train.shape)\n",
    "print('Test set dimension:', X_test.shape)"
   ]
  },
  {
   "cell_type": "code",
   "execution_count": 8,
   "metadata": {
    "colab": {
     "base_uri": "https://localhost:8080/",
     "height": 104
    },
    "colab_type": "code",
    "id": "Mpu1T5qgAHJC",
    "outputId": "c92d1a15-64e4-439d-f21b-f3a1b24185eb"
   },
   "outputs": [
    {
     "name": "stdout",
     "output_type": "stream",
     "text": [
      "Collecting nlppreprocess\n",
      "  Downloading https://files.pythonhosted.org/packages/66/8d/3a0584b924248c865a8e7ee04a93175551ebcaf156ee9b73346cd62446e6/nlppreprocess-1.0.2-py3-none-any.whl\n",
      "Installing collected packages: nlppreprocess\n",
      "Successfully installed nlppreprocess-1.0.2\n"
     ]
    }
   ],
   "source": [
    "! pip install nlppreprocess"
   ]
  },
  {
   "cell_type": "code",
   "execution_count": 0,
   "metadata": {
    "colab": {},
    "colab_type": "code",
    "id": "I-lr-gET1BM7"
   },
   "outputs": [],
   "source": [
    "from nlppreprocess import NLP\n",
    "\n",
    "nlp_preproc = NLP() # correcly removes stopwords ('not' handling), remove numbers and punctuation\n",
    "max_len = 150\n",
    "\n",
    "def prep(review):\n",
    "    #review = re.sub(\"[^a-zA-Z]\", \" \", review)\n",
    "    review = nlp_preproc.process(review)\n",
    "    review = review.lower()\n",
    "\n",
    "    #review = lemmatize(review)\n",
    "    tokens = nltk.word_tokenize(review)\n",
    "    #tokens = [w for w in tokens if w not in stopwords.words('english')]\n",
    "    review = [nltk.stem.SnowballStemmer('english').stem(w) for w in tokens]\n",
    "    review = \" \".join(review)\n",
    "    return review[:max_len] if max_len else review"
   ]
  },
  {
   "cell_type": "code",
   "execution_count": 10,
   "metadata": {
    "colab": {
     "base_uri": "https://localhost:8080/",
     "height": 34
    },
    "colab_type": "code",
    "id": "qIKpOZpazFyu",
    "outputId": "2b37a3fb-3d43-46fd-fd85-7667cb669ccf"
   },
   "outputs": [
    {
     "name": "stdout",
     "output_type": "stream",
     "text": [
      "fantast hotel best ve stay in real experi excel staff noth much troubl them and concierg duti everi day first class\n"
     ]
    }
   ],
   "source": [
    "review = ' Fantastic hotel best I ve stayed in for a while a real 5 experience! Excellent staff nothing to much trouble for them and the concierge on duty every day was first Class '\n",
    "print(prep(review))"
   ]
  },
  {
   "cell_type": "code",
   "execution_count": 11,
   "metadata": {
    "colab": {
     "base_uri": "https://localhost:8080/",
     "height": 50
    },
    "colab_type": "code",
    "id": "U_4HOYc71h-d",
    "outputId": "35e9cbc6-b61c-4486-c813-3672711075bc"
   },
   "outputs": [
    {
     "name": "stdout",
     "output_type": "stream",
     "text": [
      "there issu with wifi connect\n"
     ]
    },
    {
     "data": {
      "text/plain": [
       "' There were issues with the wifi connection'"
      ]
     },
     "execution_count": 11,
     "metadata": {
      "tags": []
     },
     "output_type": "execute_result"
    }
   ],
   "source": [
    "print(X_train['negative'].iloc[:2].apply(prep).iloc[0])\n",
    "X_train['negative'].iloc[0]"
   ]
  },
  {
   "cell_type": "code",
   "execution_count": 0,
   "metadata": {
    "colab": {},
    "colab_type": "code",
    "id": "WwqeVe7o2V3f"
   },
   "outputs": [],
   "source": [
    "X_train['clean_positive'] = X_train['positive'].apply(prep)\n",
    "X_train['clean_negative'] = X_train['negative'].apply(prep)"
   ]
  },
  {
   "cell_type": "code",
   "execution_count": 0,
   "metadata": {
    "colab": {},
    "colab_type": "code",
    "id": "qpmeDfvoJ0jK"
   },
   "outputs": [],
   "source": [
    "X_test['clean_positive'] = X_test['positive'].apply(prep)\n",
    "X_test['clean_negative'] = X_test['negative'].apply(prep)"
   ]
  },
  {
   "cell_type": "code",
   "execution_count": 0,
   "metadata": {
    "colab": {},
    "colab_type": "code",
    "id": "FE8J0OOhlRn8"
   },
   "outputs": [],
   "source": [
    "X_train['clean_concat'] = X_train[\"clean_positive\"] + \" \" + X_train[\"clean_negative\"]\n",
    "X_test['clean_concat'] = X_test[\"clean_positive\"] + \" \" + X_test[\"clean_negative\"]"
   ]
  },
  {
   "cell_type": "code",
   "execution_count": 15,
   "metadata": {
    "colab": {
     "base_uri": "https://localhost:8080/",
     "height": 279
    },
    "colab_type": "code",
    "id": "bhmb-KMflxzc",
    "outputId": "9e8bb814-2160-498a-c8c1-9b1ee6291cab"
   },
   "outputs": [
    {
     "data": {
      "text/html": [
       "<div>\n",
       "<style scoped>\n",
       "    .dataframe tbody tr th:only-of-type {\n",
       "        vertical-align: middle;\n",
       "    }\n",
       "\n",
       "    .dataframe tbody tr th {\n",
       "        vertical-align: top;\n",
       "    }\n",
       "\n",
       "    .dataframe thead th {\n",
       "        text-align: right;\n",
       "    }\n",
       "</style>\n",
       "<table border=\"1\" class=\"dataframe\">\n",
       "  <thead>\n",
       "    <tr style=\"text-align: right;\">\n",
       "      <th></th>\n",
       "      <th>review_id</th>\n",
       "      <th>negative</th>\n",
       "      <th>positive</th>\n",
       "      <th>score</th>\n",
       "      <th>clean_positive</th>\n",
       "      <th>clean_negative</th>\n",
       "      <th>clean_concat</th>\n",
       "    </tr>\n",
       "  </thead>\n",
       "  <tbody>\n",
       "    <tr>\n",
       "      <th>0</th>\n",
       "      <td>00003c6036f30f590c0ac435efb8739b</td>\n",
       "      <td>There were issues with the wifi connection</td>\n",
       "      <td>No Positive</td>\n",
       "      <td>7.1</td>\n",
       "      <td>no posit</td>\n",
       "      <td>there issu with wifi connect</td>\n",
       "      <td>no posit there issu with wifi connect</td>\n",
       "    </tr>\n",
       "    <tr>\n",
       "      <th>1</th>\n",
       "      <td>00004d18f186bf2489590dc415876f73</td>\n",
       "      <td>TV not working</td>\n",
       "      <td>No Positive</td>\n",
       "      <td>7.5</td>\n",
       "      <td>no posit</td>\n",
       "      <td>tv not work</td>\n",
       "      <td>no posit tv not work</td>\n",
       "    </tr>\n",
       "    <tr>\n",
       "      <th>2</th>\n",
       "      <td>0000cf900cbb8667fad33a717e9b1cf4</td>\n",
       "      <td>More pillows</td>\n",
       "      <td>Beautiful room Great location Lovely staff</td>\n",
       "      <td>10.0</td>\n",
       "      <td>beauti room great locat love staff</td>\n",
       "      <td>more pillow</td>\n",
       "      <td>beauti room great locat love staff more pillow</td>\n",
       "    </tr>\n",
       "    <tr>\n",
       "      <th>3</th>\n",
       "      <td>0000df16edf19e7ad9dd8c5cd6f6925e</td>\n",
       "      <td>Very business</td>\n",
       "      <td>Location</td>\n",
       "      <td>5.4</td>\n",
       "      <td>locat</td>\n",
       "      <td>veri busi</td>\n",
       "      <td>locat veri busi</td>\n",
       "    </tr>\n",
       "    <tr>\n",
       "      <th>4</th>\n",
       "      <td>00025e1aa3ac32edb496db49e76bbd00</td>\n",
       "      <td>Rooms could do with a bit of a refurbishment ...</td>\n",
       "      <td>Nice breakfast handy for Victoria train stati...</td>\n",
       "      <td>6.7</td>\n",
       "      <td>nice breakfast handi victoria train station an...</td>\n",
       "      <td>room could with bit refurbish could corridor l...</td>\n",
       "      <td>nice breakfast handi victoria train station an...</td>\n",
       "    </tr>\n",
       "  </tbody>\n",
       "</table>\n",
       "</div>"
      ],
      "text/plain": [
       "                          review_id  ...                                       clean_concat\n",
       "0  00003c6036f30f590c0ac435efb8739b  ...              no posit there issu with wifi connect\n",
       "1  00004d18f186bf2489590dc415876f73  ...                               no posit tv not work\n",
       "2  0000cf900cbb8667fad33a717e9b1cf4  ...     beauti room great locat love staff more pillow\n",
       "3  0000df16edf19e7ad9dd8c5cd6f6925e  ...                                    locat veri busi\n",
       "4  00025e1aa3ac32edb496db49e76bbd00  ...  nice breakfast handi victoria train station an...\n",
       "\n",
       "[5 rows x 7 columns]"
      ]
     },
     "execution_count": 15,
     "metadata": {
      "tags": []
     },
     "output_type": "execute_result"
    }
   ],
   "source": [
    "X_train.head()"
   ]
  },
  {
   "cell_type": "code",
   "execution_count": 0,
   "metadata": {
    "colab": {},
    "colab_type": "code",
    "id": "YgkSniSZfD5P"
   },
   "outputs": [],
   "source": [
    "sentences = np.array(X_train['clean_concat'])\n",
    "scores = np.array(X_train['score'])\n",
    "labels = np.array([x/10 for x in scores])\n",
    "lr_labels = np.array([int(x*10) for x in scores])\n",
    "\n",
    "sentences_train, sentences_val, sentiments_train, sentiments_val = train_test_split(sentences, lr_labels, test_size=0.1, random_state=4)"
   ]
  },
  {
   "cell_type": "code",
   "execution_count": 17,
   "metadata": {
    "colab": {
     "base_uri": "https://localhost:8080/",
     "height": 50
    },
    "colab_type": "code",
    "id": "5lWIpOlFYLV0",
    "outputId": "113bf4cb-fc00-4df4-ad22-c32aa2013b3e"
   },
   "outputs": [
    {
     "name": "stdout",
     "output_type": "stream",
     "text": [
      "[0.71 0.75 1.   0.54 0.67 0.63 0.88 1.   0.92 0.67]\n",
      "[ 71  75 100  54  67  63  88 100  92  67]\n"
     ]
    }
   ],
   "source": [
    "print(labels[:10])\n",
    "print(lr_labels[:10])"
   ]
  },
  {
   "cell_type": "code",
   "execution_count": 0,
   "metadata": {
    "colab": {},
    "colab_type": "code",
    "id": "4RUzR2wOgQMD"
   },
   "outputs": [],
   "source": [
    "# # build TFIDF features on train reviews\n",
    "# tv = TfidfVectorizer(min_df=0.0, max_df=1.0, ngram_range=(1,2), sublinear_tf=True)\n",
    "\n",
    "# tv_train_features = tv.fit_transform(sentences_train)\n",
    "# tv_val_features = tv.transform(sentences_val)"
   ]
  },
  {
   "cell_type": "code",
   "execution_count": 19,
   "metadata": {
    "colab": {
     "base_uri": "https://localhost:8080/",
     "height": 235
    },
    "colab_type": "code",
    "id": "AQ1BQv7xgpVE",
    "outputId": "9fd40c64-05a4-4874-f520-8ba7f7b49a48"
   },
   "outputs": [
    {
     "name": "stderr",
     "output_type": "stream",
     "text": [
      "/usr/local/lib/python3.6/dist-packages/sklearn/linear_model/_logistic.py:940: ConvergenceWarning: lbfgs failed to converge (status=1):\n",
      "STOP: TOTAL NO. of ITERATIONS REACHED LIMIT.\n",
      "\n",
      "Increase the number of iterations (max_iter) or scale the data as shown in:\n",
      "    https://scikit-learn.org/stable/modules/preprocessing.html\n",
      "Please also refer to the documentation for alternative solver options:\n",
      "    https://scikit-learn.org/stable/modules/linear_model.html#logistic-regression\n",
      "  extra_warning_msg=_LOGISTIC_SOLVER_CONVERGENCE_MSG)\n"
     ]
    },
    {
     "data": {
      "text/plain": [
       "LogisticRegression(C=1, class_weight=None, dual=False, fit_intercept=True,\n",
       "                   intercept_scaling=1, l1_ratio=None, max_iter=100,\n",
       "                   multi_class='auto', n_jobs=None, penalty='l2',\n",
       "                   random_state=None, solver='lbfgs', tol=0.0001, verbose=0,\n",
       "                   warm_start=False)"
      ]
     },
     "execution_count": 19,
     "metadata": {
      "tags": []
     },
     "output_type": "execute_result"
    }
   ],
   "source": [
    "# lr = LogisticRegression(penalty='l2', max_iter=100, C=1)\n",
    "# lr.fit(tv_train_features, sentiments_train)"
   ]
  },
  {
   "cell_type": "code",
   "execution_count": 20,
   "metadata": {
    "colab": {
     "base_uri": "https://localhost:8080/",
     "height": 50
    },
    "colab_type": "code",
    "id": "sTscmprhjQ5-",
    "outputId": "d7f58bcf-6904-4e05-9be4-6e516b718498"
   },
   "outputs": [
    {
     "name": "stdout",
     "output_type": "stream",
     "text": [
      "[9.6, 9.2, 10.0, 9.6, 10.0, 10.0, 7.5, 10.0, 6.3, 7.5]\n",
      "[10.0, 8.8, 9.2, 10.0, 10.0, 9.2, 9.2, 7.5, 5.4, 7.9]\n"
     ]
    }
   ],
   "source": [
    "# lr_tfidf_predictions_val_raw = lr.predict(tv_val_features)\n",
    "\n",
    "# lr_tfidf_predictions_val = [score/10 for score in lr_tfidf_predictions_val_raw]\n",
    "# sentiments_val_div = [score/10 for score in sentiments_val]\n",
    "\n",
    "# print(lr_tfidf_predictions_val[:10])\n",
    "# print(sentiments_val_div[:10])"
   ]
  },
  {
   "cell_type": "code",
   "execution_count": 21,
   "metadata": {
    "colab": {
     "base_uri": "https://localhost:8080/",
     "height": 34
    },
    "colab_type": "code",
    "id": "MeDcoCyXtphl",
    "outputId": "a3f94658-dade-45a8-8707-8d0c2c22aae2"
   },
   "outputs": [
    {
     "name": "stdout",
     "output_type": "stream",
     "text": [
      "[4.2, 10.0, 7.1, 7.5, 10.0, 10.0, 10.0, 10.0, 7.5, 10.0]\n"
     ]
    }
   ],
   "source": [
    "# test_sentences = np.array(X_test['clean_concat'])\n",
    "# tv_test_features = tv.transform(test_sentences)\n",
    "\n",
    "# predicted_scores_raw = lr.predict(tv_test_features)\n",
    "# predicted_scores = [score/10 for score in predicted_scores_raw]\n",
    "# print(predicted_scores[:10])"
   ]
  },
  {
   "cell_type": "code",
   "execution_count": 0,
   "metadata": {
    "colab": {},
    "colab_type": "code",
    "id": "Y6K7SmF9odwA"
   },
   "outputs": [],
   "source": [
    "# sample_df = pd.read_csv(sample_path)\n",
    "# sample_df['score'] = predicted_scores\n",
    "# submission_file_name = 'sample_submission_tf_idf.csv'\n",
    "# sample_df.to_csv(submission_file_name, index=False)"
   ]
  },
  {
   "cell_type": "code",
   "execution_count": 23,
   "metadata": {
    "colab": {
     "base_uri": "https://localhost:8080/",
     "height": 34
    },
    "colab_type": "code",
    "id": "fsNyG5x2uB8F",
    "outputId": "fe905290-1f26-472c-b3a9-095202e7bffe"
   },
   "outputs": [
    {
     "name": "stdout",
     "output_type": "stream",
     "text": [
      "1.00199\n"
     ]
    }
   ],
   "source": [
    "# mae = MeanAbsoluteError()\n",
    "# print(mae(lr_tfidf_predictions_val, sentiments_val_div).numpy())"
   ]
  },
  {
   "cell_type": "markdown",
   "metadata": {
    "colab_type": "text",
    "id": "2ohWFHYLq5tt"
   },
   "source": [
    "![image.png](data:image/png;base64,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)"
   ]
  },
  {
   "cell_type": "markdown",
   "metadata": {
    "colab_type": "text",
    "id": "qGvrzPiGq_ge"
   },
   "source": [
    "## 2) Оценка с помощью сверточной нейронной сети и предобученного распределенного векторного представления слов."
   ]
  },
  {
   "cell_type": "code",
   "execution_count": 0,
   "metadata": {
    "colab": {},
    "colab_type": "code",
    "id": "-ncje6Qv13lJ"
   },
   "outputs": [],
   "source": [
    "from tensorflow.keras import Model\n",
    "from tensorflow.keras.utils import to_categorical\n",
    "from tensorflow.keras.preprocessing.text import Tokenizer\n",
    "from tensorflow.keras.preprocessing.sequence import pad_sequences\n",
    "from tensorflow.keras.layers import Embedding, Lambda, Conv1D, Dense, Flatten, Input, MaxPooling1D, Bidirectional, LSTM, GlobalMaxPooling1D, Dropout, SpatialDropout1D, BatchNormalization\n",
    "from tensorflow.keras.callbacks import ModelCheckpoint\n",
    "from tensorflow.keras.models import load_model"
   ]
  },
  {
   "cell_type": "code",
   "execution_count": 0,
   "metadata": {
    "colab": {},
    "colab_type": "code",
    "id": "jt8x38-YycQp"
   },
   "outputs": [],
   "source": [
    "MAX_SEQUENCE_LENGTH = 300\n",
    "MAX_NUM_WORDS = 20000\n",
    "EMBEDDING_DIM = 100\n",
    "VALIDATION_SPLIT = 0.2"
   ]
  },
  {
   "cell_type": "code",
   "execution_count": 0,
   "metadata": {
    "colab": {},
    "colab_type": "code",
    "id": "yBldPJVnz9ru"
   },
   "outputs": [],
   "source": [
    "tokenizer = Tokenizer(num_words=MAX_NUM_WORDS)\n",
    "tokenizer.fit_on_texts(X_train['clean_concat'])\n",
    "sequences = tokenizer.texts_to_sequences(X_train['clean_concat'])"
   ]
  },
  {
   "cell_type": "code",
   "execution_count": 27,
   "metadata": {
    "colab": {
     "base_uri": "https://localhost:8080/",
     "height": 67
    },
    "colab_type": "code",
    "id": "sIO-CXLM1Rbs",
    "outputId": "f5ec8a94-fcc9-4d4a-d10d-579e452de4d7"
   },
   "outputs": [
    {
     "name": "stdout",
     "output_type": "stream",
     "text": [
      "Found 21762 unique tokens.\n",
      "Shape of data tensor: (100000, 300)\n",
      "Shape of label tensor: (100000,)\n"
     ]
    }
   ],
   "source": [
    "word_index = tokenizer.word_index\n",
    "print('Found %s unique tokens.' % len(word_index))\n",
    "\n",
    "data = pad_sequences(sequences, maxlen=MAX_SEQUENCE_LENGTH)\n",
    "\n",
    "print('Shape of data tensor:', data.shape)\n",
    "print('Shape of label tensor:', labels.shape)"
   ]
  },
  {
   "cell_type": "code",
   "execution_count": 0,
   "metadata": {
    "colab": {},
    "colab_type": "code",
    "id": "n7QUOZ3G3v_3"
   },
   "outputs": [],
   "source": [
    "x_train, x_val, y_train, y_val = train_test_split(data, labels, test_size=VALIDATION_SPLIT)"
   ]
  },
  {
   "cell_type": "code",
   "execution_count": 29,
   "metadata": {
    "colab": {
     "base_uri": "https://localhost:8080/",
     "height": 34
    },
    "colab_type": "code",
    "id": "u6j6ZDSB6hnm",
    "outputId": "a79fa415-8562-4820-c6c1-f4d54e58f2ad"
   },
   "outputs": [
    {
     "name": "stdout",
     "output_type": "stream",
     "text": [
      "Found 1193515 word vectors.\n"
     ]
    }
   ],
   "source": [
    "embeddings_index = {}\n",
    "with open(data_path + f'glove.twitter.27B.{EMBEDDING_DIM}d.txt', 'r') as f:\n",
    "  for line in f:\n",
    "      values = line.split()\n",
    "      word = values[0]\n",
    "      coefs = np.asarray(values[1:], dtype='float32')\n",
    "      embeddings_index[word] = coefs\n",
    "\n",
    "print('Found %s word vectors.' % len(embeddings_index))"
   ]
  },
  {
   "cell_type": "code",
   "execution_count": 0,
   "metadata": {
    "colab": {},
    "colab_type": "code",
    "id": "efD0UYUM7hMg"
   },
   "outputs": [],
   "source": [
    "embedding_matrix = np.zeros((len(word_index) + 1, EMBEDDING_DIM))\n",
    "for word, i in word_index.items():\n",
    "    embedding_vector = embeddings_index.get(word)\n",
    "    if embedding_vector is not None:\n",
    "        embedding_matrix[i] = embedding_vector"
   ]
  },
  {
   "cell_type": "code",
   "execution_count": 0,
   "metadata": {
    "colab": {},
    "colab_type": "code",
    "id": "gbYlExAD7kjc"
   },
   "outputs": [],
   "source": [
    "embedding_layer = Embedding(len(word_index) + 1,\n",
    "                            EMBEDDING_DIM,\n",
    "                            weights=[embedding_matrix],\n",
    "                            input_length=MAX_SEQUENCE_LENGTH,\n",
    "                            trainable=False)"
   ]
  },
  {
   "cell_type": "code",
   "execution_count": 0,
   "metadata": {
    "colab": {},
    "colab_type": "code",
    "id": "a9RP-5na8Is-"
   },
   "outputs": [],
   "source": [
    "epochs = 30\n",
    "verbose = 1\n",
    "batch_size = 128"
   ]
  },
  {
   "cell_type": "code",
   "execution_count": 0,
   "metadata": {
    "colab": {},
    "colab_type": "code",
    "id": "nksNkr0cTJNB"
   },
   "outputs": [],
   "source": [
    "# def build_cnn_model():\n",
    "#     sequence_input = Input(shape=(MAX_SEQUENCE_LENGTH,), dtype='int32')\n",
    "#     x = embedding_layer(sequence_input)\n",
    "#     x = SpatialDropout1D(0.2)(x)\n",
    "\n",
    "#     x = Conv1D(128, 5, activation='relu')(x)\n",
    "#     x = BatchNormalization()(x)\n",
    "#     x = GlobalMaxPooling1D()(x)\n",
    "\n",
    "#     x = Dense(256, activation='relu')(x)\n",
    "#     x = BatchNormalization()(x)\n",
    "#     x = Dropout(0.2)(x)\n",
    "\n",
    "#     preds = Dense(1, activation='sigmoid')(x)\n",
    "\n",
    "#     model = Model(sequence_input, preds)\n",
    "#     model.compile(loss='mean_squared_error',\n",
    "#                   optimizer='rmsprop',\n",
    "#                   metrics=['MAE'])\n",
    "#     return model"
   ]
  },
  {
   "cell_type": "code",
   "execution_count": 0,
   "metadata": {
    "colab": {},
    "colab_type": "code",
    "id": "GJWq-ijCDDVu"
   },
   "outputs": [],
   "source": [
    "from tensorflow.keras.layers import Concatenate\n",
    "\n",
    "def build_cnn_model():\n",
    "    sequence_input = Input(shape=(MAX_SEQUENCE_LENGTH,), dtype='int32')\n",
    "    x = embedding_layer(sequence_input)\n",
    "    x = SpatialDropout1D(0.2)(x)\n",
    "\n",
    "    x = [(Conv1D(128, f, activation='relu')(x)) for f in range(3,6)]\n",
    "    x = [BatchNormalization()(x) for x in x]\n",
    "    x = [GlobalMaxPooling1D()(x) for x in x]\n",
    "    x = Concatenate()(x)\n",
    "\n",
    "    x = Dense(256, activation='relu')(x)\n",
    "    x = BatchNormalization()(x)\n",
    "    x = Dropout(0.2)(x)\n",
    "\n",
    "    preds = Dense(1, activation='sigmoid')(x)\n",
    "\n",
    "    model = Model(sequence_input, preds)\n",
    "    model.compile(loss='mean_squared_error',\n",
    "                  optimizer='rmsprop',\n",
    "                  metrics=['MAE'])\n",
    "    return model"
   ]
  },
  {
   "cell_type": "code",
   "execution_count": 210,
   "metadata": {
    "colab": {
     "base_uri": "https://localhost:8080/",
     "height": 756
    },
    "colab_type": "code",
    "id": "ZIaF8-xj8OQh",
    "outputId": "eb0aaeb0-47c5-44d9-ba25-53fa43a95ba1"
   },
   "outputs": [
    {
     "name": "stdout",
     "output_type": "stream",
     "text": [
      "Model: \"model_6\"\n",
      "__________________________________________________________________________________________________\n",
      "Layer (type)                    Output Shape         Param #     Connected to                     \n",
      "==================================================================================================\n",
      "input_8 (InputLayer)            [(None, 300)]        0                                            \n",
      "__________________________________________________________________________________________________\n",
      "embedding (Embedding)           (None, 300, 100)     2176300     input_8[0][0]                    \n",
      "__________________________________________________________________________________________________\n",
      "spatial_dropout1d_4 (SpatialDro (None, 300, 100)     0           embedding[4][0]                  \n",
      "__________________________________________________________________________________________________\n",
      "conv1d_4 (Conv1D)               (None, 298, 128)     38528       spatial_dropout1d_4[0][0]        \n",
      "__________________________________________________________________________________________________\n",
      "conv1d_5 (Conv1D)               (None, 297, 128)     51328       spatial_dropout1d_4[0][0]        \n",
      "__________________________________________________________________________________________________\n",
      "conv1d_6 (Conv1D)               (None, 296, 128)     64128       spatial_dropout1d_4[0][0]        \n",
      "__________________________________________________________________________________________________\n",
      "batch_normalization_35 (BatchNo (None, 298, 128)     512         conv1d_4[0][0]                   \n",
      "__________________________________________________________________________________________________\n",
      "batch_normalization_36 (BatchNo (None, 297, 128)     512         conv1d_5[0][0]                   \n",
      "__________________________________________________________________________________________________\n",
      "batch_normalization_37 (BatchNo (None, 296, 128)     512         conv1d_6[0][0]                   \n",
      "__________________________________________________________________________________________________\n",
      "global_max_pooling1d_4 (GlobalM (None, 128)          0           batch_normalization_35[0][0]     \n",
      "__________________________________________________________________________________________________\n",
      "global_max_pooling1d_5 (GlobalM (None, 128)          0           batch_normalization_36[0][0]     \n",
      "__________________________________________________________________________________________________\n",
      "global_max_pooling1d_6 (GlobalM (None, 128)          0           batch_normalization_37[0][0]     \n",
      "__________________________________________________________________________________________________\n",
      "concatenate_1 (Concatenate)     (None, 384)          0           global_max_pooling1d_4[0][0]     \n",
      "                                                                 global_max_pooling1d_5[0][0]     \n",
      "                                                                 global_max_pooling1d_6[0][0]     \n",
      "__________________________________________________________________________________________________\n",
      "dense_57 (Dense)                (None, 256)          98560       concatenate_1[0][0]              \n",
      "__________________________________________________________________________________________________\n",
      "batch_normalization_38 (BatchNo (None, 256)          1024        dense_57[0][0]                   \n",
      "__________________________________________________________________________________________________\n",
      "dropout_35 (Dropout)            (None, 256)          0           batch_normalization_38[0][0]     \n",
      "__________________________________________________________________________________________________\n",
      "dense_58 (Dense)                (None, 1)            257         dropout_35[0][0]                 \n",
      "==================================================================================================\n",
      "Total params: 2,431,661\n",
      "Trainable params: 254,081\n",
      "Non-trainable params: 2,177,580\n",
      "__________________________________________________________________________________________________\n"
     ]
    }
   ],
   "source": [
    "cnn_model = build_cnn_model()\n",
    "cnn_model.summary()"
   ]
  },
  {
   "cell_type": "code",
   "execution_count": 0,
   "metadata": {
    "colab": {},
    "colab_type": "code",
    "id": "16az-iEZCsk0"
   },
   "outputs": [],
   "source": [
    "cnn_cp_path = 'model_cnn.hdf5'\n",
    "cnn_cp=ModelCheckpoint(cnn_cp_path,monitor='val_MAE',verbose=verbose,save_best_only=True)"
   ]
  },
  {
   "cell_type": "code",
   "execution_count": 212,
   "metadata": {
    "colab": {
     "base_uri": "https://localhost:8080/",
     "height": 1000
    },
    "colab_type": "code",
    "id": "autSCAVU74k1",
    "outputId": "c23c118f-2f92-4387-c59b-3c12328ac268"
   },
   "outputs": [
    {
     "name": "stdout",
     "output_type": "stream",
     "text": [
      "Epoch 1/30\n",
      "623/625 [============================>.] - ETA: 0s - loss: 0.0285 - MAE: 0.1210\n",
      "Epoch 00001: val_MAE improved from inf to 0.09430, saving model to model_cnn.hdf5\n",
      "625/625 [==============================] - 12s 19ms/step - loss: 0.0285 - MAE: 0.1209 - val_loss: 0.0167 - val_MAE: 0.0943\n",
      "Epoch 2/30\n",
      "623/625 [============================>.] - ETA: 0s - loss: 0.0161 - MAE: 0.0951\n",
      "Epoch 00002: val_MAE improved from 0.09430 to 0.09123, saving model to model_cnn.hdf5\n",
      "625/625 [==============================] - 12s 19ms/step - loss: 0.0161 - MAE: 0.0951 - val_loss: 0.0145 - val_MAE: 0.0912\n",
      "Epoch 3/30\n",
      "625/625 [==============================] - ETA: 0s - loss: 0.0143 - MAE: 0.0901\n",
      "Epoch 00003: val_MAE improved from 0.09123 to 0.08786, saving model to model_cnn.hdf5\n",
      "625/625 [==============================] - 12s 19ms/step - loss: 0.0143 - MAE: 0.0901 - val_loss: 0.0146 - val_MAE: 0.0879\n",
      "Epoch 4/30\n",
      "623/625 [============================>.] - ETA: 0s - loss: 0.0131 - MAE: 0.0862\n",
      "Epoch 00004: val_MAE improved from 0.08786 to 0.08646, saving model to model_cnn.hdf5\n",
      "625/625 [==============================] - 12s 19ms/step - loss: 0.0131 - MAE: 0.0862 - val_loss: 0.0137 - val_MAE: 0.0865\n",
      "Epoch 5/30\n",
      "623/625 [============================>.] - ETA: 0s - loss: 0.0126 - MAE: 0.0844\n",
      "Epoch 00005: val_MAE did not improve from 0.08646\n",
      "625/625 [==============================] - 12s 19ms/step - loss: 0.0126 - MAE: 0.0844 - val_loss: 0.0192 - val_MAE: 0.0969\n",
      "Epoch 6/30\n",
      "625/625 [==============================] - ETA: 0s - loss: 0.0119 - MAE: 0.0822\n",
      "Epoch 00006: val_MAE did not improve from 0.08646\n",
      "625/625 [==============================] - 12s 19ms/step - loss: 0.0119 - MAE: 0.0822 - val_loss: 0.0139 - val_MAE: 0.0882\n",
      "Epoch 7/30\n",
      "623/625 [============================>.] - ETA: 0s - loss: 0.0114 - MAE: 0.0804\n",
      "Epoch 00007: val_MAE improved from 0.08646 to 0.08474, saving model to model_cnn.hdf5\n",
      "625/625 [==============================] - 12s 19ms/step - loss: 0.0114 - MAE: 0.0804 - val_loss: 0.0136 - val_MAE: 0.0847\n",
      "Epoch 8/30\n",
      "625/625 [==============================] - ETA: 0s - loss: 0.0110 - MAE: 0.0789\n",
      "Epoch 00008: val_MAE did not improve from 0.08474\n",
      "625/625 [==============================] - 12s 19ms/step - loss: 0.0110 - MAE: 0.0789 - val_loss: 0.0141 - val_MAE: 0.0859\n",
      "Epoch 9/30\n",
      "623/625 [============================>.] - ETA: 0s - loss: 0.0106 - MAE: 0.0776\n",
      "Epoch 00009: val_MAE did not improve from 0.08474\n",
      "625/625 [==============================] - 12s 19ms/step - loss: 0.0106 - MAE: 0.0776 - val_loss: 0.0153 - val_MAE: 0.0884\n",
      "Epoch 10/30\n",
      "625/625 [==============================] - ETA: 0s - loss: 0.0103 - MAE: 0.0765\n",
      "Epoch 00010: val_MAE did not improve from 0.08474\n",
      "625/625 [==============================] - 12s 19ms/step - loss: 0.0103 - MAE: 0.0765 - val_loss: 0.0171 - val_MAE: 0.0917\n",
      "Epoch 11/30\n",
      "624/625 [============================>.] - ETA: 0s - loss: 0.0100 - MAE: 0.0753\n",
      "Epoch 00011: val_MAE did not improve from 0.08474\n",
      "625/625 [==============================] - 11s 18ms/step - loss: 0.0100 - MAE: 0.0753 - val_loss: 0.0149 - val_MAE: 0.0876\n",
      "Epoch 12/30\n",
      "625/625 [==============================] - ETA: 0s - loss: 0.0097 - MAE: 0.0746\n",
      "Epoch 00012: val_MAE did not improve from 0.08474\n",
      "625/625 [==============================] - 12s 18ms/step - loss: 0.0097 - MAE: 0.0746 - val_loss: 0.0138 - val_MAE: 0.0861\n",
      "Epoch 13/30\n",
      "625/625 [==============================] - ETA: 0s - loss: 0.0094 - MAE: 0.0731\n",
      "Epoch 00013: val_MAE did not improve from 0.08474\n",
      "625/625 [==============================] - 12s 19ms/step - loss: 0.0094 - MAE: 0.0731 - val_loss: 0.0150 - val_MAE: 0.0876\n",
      "Epoch 14/30\n",
      "623/625 [============================>.] - ETA: 0s - loss: 0.0091 - MAE: 0.0725\n",
      "Epoch 00014: val_MAE did not improve from 0.08474\n",
      "625/625 [==============================] - 12s 19ms/step - loss: 0.0092 - MAE: 0.0725 - val_loss: 0.0138 - val_MAE: 0.0873\n",
      "Epoch 15/30\n",
      "624/625 [============================>.] - ETA: 0s - loss: 0.0090 - MAE: 0.0719\n",
      "Epoch 00015: val_MAE did not improve from 0.08474\n",
      "625/625 [==============================] - 12s 18ms/step - loss: 0.0090 - MAE: 0.0719 - val_loss: 0.0137 - val_MAE: 0.0866\n",
      "Epoch 16/30\n",
      "623/625 [============================>.] - ETA: 0s - loss: 0.0089 - MAE: 0.0713\n",
      "Epoch 00016: val_MAE did not improve from 0.08474\n",
      "625/625 [==============================] - 12s 19ms/step - loss: 0.0089 - MAE: 0.0713 - val_loss: 0.0137 - val_MAE: 0.0862\n",
      "Epoch 17/30\n",
      "623/625 [============================>.] - ETA: 0s - loss: 0.0086 - MAE: 0.0704\n",
      "Epoch 00017: val_MAE did not improve from 0.08474\n",
      "625/625 [==============================] - 12s 19ms/step - loss: 0.0086 - MAE: 0.0704 - val_loss: 0.0148 - val_MAE: 0.0910\n",
      "Epoch 18/30\n",
      "623/625 [============================>.] - ETA: 0s - loss: 0.0085 - MAE: 0.0696\n",
      "Epoch 00018: val_MAE did not improve from 0.08474\n",
      "625/625 [==============================] - 12s 19ms/step - loss: 0.0085 - MAE: 0.0696 - val_loss: 0.0151 - val_MAE: 0.0920\n",
      "Epoch 19/30\n",
      "625/625 [==============================] - ETA: 0s - loss: 0.0084 - MAE: 0.0695\n",
      "Epoch 00019: val_MAE did not improve from 0.08474\n",
      "625/625 [==============================] - 12s 19ms/step - loss: 0.0084 - MAE: 0.0695 - val_loss: 0.0140 - val_MAE: 0.0859\n",
      "Epoch 20/30\n",
      "622/625 [============================>.] - ETA: 0s - loss: 0.0082 - MAE: 0.0687\n",
      "Epoch 00020: val_MAE did not improve from 0.08474\n",
      "625/625 [==============================] - 12s 18ms/step - loss: 0.0082 - MAE: 0.0688 - val_loss: 0.0140 - val_MAE: 0.0881\n",
      "Epoch 21/30\n",
      "624/625 [============================>.] - ETA: 0s - loss: 0.0081 - MAE: 0.0682\n",
      "Epoch 00021: val_MAE did not improve from 0.08474\n",
      "625/625 [==============================] - 12s 19ms/step - loss: 0.0081 - MAE: 0.0682 - val_loss: 0.0153 - val_MAE: 0.0882\n",
      "Epoch 22/30\n",
      "625/625 [==============================] - ETA: 0s - loss: 0.0080 - MAE: 0.0678\n",
      "Epoch 00022: val_MAE did not improve from 0.08474\n",
      "625/625 [==============================] - 12s 19ms/step - loss: 0.0080 - MAE: 0.0678 - val_loss: 0.0154 - val_MAE: 0.0919\n",
      "Epoch 23/30\n",
      "624/625 [============================>.] - ETA: 0s - loss: 0.0079 - MAE: 0.0674\n",
      "Epoch 00023: val_MAE did not improve from 0.08474\n",
      "625/625 [==============================] - 12s 19ms/step - loss: 0.0079 - MAE: 0.0674 - val_loss: 0.0141 - val_MAE: 0.0862\n",
      "Epoch 24/30\n",
      "623/625 [============================>.] - ETA: 0s - loss: 0.0078 - MAE: 0.0668\n",
      "Epoch 00024: val_MAE did not improve from 0.08474\n",
      "625/625 [==============================] - 12s 18ms/step - loss: 0.0078 - MAE: 0.0668 - val_loss: 0.0155 - val_MAE: 0.0887\n",
      "Epoch 25/30\n",
      "624/625 [============================>.] - ETA: 0s - loss: 0.0077 - MAE: 0.0665\n",
      "Epoch 00025: val_MAE did not improve from 0.08474\n",
      "625/625 [==============================] - 12s 19ms/step - loss: 0.0077 - MAE: 0.0665 - val_loss: 0.0165 - val_MAE: 0.0955\n",
      "Epoch 26/30\n",
      "624/625 [============================>.] - ETA: 0s - loss: 0.0076 - MAE: 0.0661\n",
      "Epoch 00026: val_MAE did not improve from 0.08474\n",
      "625/625 [==============================] - 12s 18ms/step - loss: 0.0076 - MAE: 0.0661 - val_loss: 0.0148 - val_MAE: 0.0863\n",
      "Epoch 27/30\n",
      "623/625 [============================>.] - ETA: 0s - loss: 0.0075 - MAE: 0.0659\n",
      "Epoch 00027: val_MAE did not improve from 0.08474\n",
      "625/625 [==============================] - 11s 18ms/step - loss: 0.0076 - MAE: 0.0659 - val_loss: 0.0141 - val_MAE: 0.0874\n",
      "Epoch 28/30\n",
      "624/625 [============================>.] - ETA: 0s - loss: 0.0074 - MAE: 0.0655\n",
      "Epoch 00028: val_MAE did not improve from 0.08474\n",
      "625/625 [==============================] - 11s 18ms/step - loss: 0.0074 - MAE: 0.0655 - val_loss: 0.0146 - val_MAE: 0.0870\n",
      "Epoch 29/30\n",
      "625/625 [==============================] - ETA: 0s - loss: 0.0073 - MAE: 0.0650\n",
      "Epoch 00029: val_MAE did not improve from 0.08474\n",
      "625/625 [==============================] - 12s 18ms/step - loss: 0.0073 - MAE: 0.0650 - val_loss: 0.0146 - val_MAE: 0.0887\n",
      "Epoch 30/30\n",
      "623/625 [============================>.] - ETA: 0s - loss: 0.0073 - MAE: 0.0645\n",
      "Epoch 00030: val_MAE did not improve from 0.08474\n",
      "625/625 [==============================] - 11s 18ms/step - loss: 0.0073 - MAE: 0.0645 - val_loss: 0.0153 - val_MAE: 0.0907\n"
     ]
    }
   ],
   "source": [
    "# h_cnn = cnn_model.fit(x_train, y_train, validation_data=(x_val, y_val),\n",
    "#           batch_size=batch_size, epochs=epochs, verbose=verbose,\n",
    "#           callbacks=[cnn_cp])"
   ]
  },
  {
   "cell_type": "code",
   "execution_count": 213,
   "metadata": {
    "colab": {
     "base_uri": "https://localhost:8080/",
     "height": 34
    },
    "colab_type": "code",
    "id": "Enh6wGWnNyY6",
    "outputId": "90a13061-719a-497d-ff6b-44afb4117c2d"
   },
   "outputs": [
    {
     "name": "stdout",
     "output_type": "stream",
     "text": [
      "Shape of data test tensor: (20000, 300)\n"
     ]
    }
   ],
   "source": [
    "sequences_test = tokenizer.texts_to_sequences(X_test['clean_concat'])\n",
    "data_test = pad_sequences(sequences_test, maxlen=MAX_SEQUENCE_LENGTH)\n",
    "\n",
    "print('Shape of data test tensor:', data_test.shape)"
   ]
  },
  {
   "cell_type": "code",
   "execution_count": 0,
   "metadata": {
    "colab": {},
    "colab_type": "code",
    "id": "tW8qfR8fhXzc"
   },
   "outputs": [],
   "source": [
    "def process_prediction_scores(pred_scores):\n",
    "    predicted_scores = np.array([scores[0]*10 for scores in pred_scores])\n",
    "    outl1 = [score for score in predicted_scores if score > 10 or score < 0]\n",
    "    predicted_scores[predicted_scores > 10] = 10\n",
    "    predicted_scores[predicted_scores < 0] = 0\n",
    "    outl2 = [score for score in predicted_scores if score > 10 or score < 0]\n",
    "    assert len(outl2) == 0\n",
    "    return predicted_scores"
   ]
  },
  {
   "cell_type": "code",
   "execution_count": 0,
   "metadata": {
    "colab": {},
    "colab_type": "code",
    "id": "q45tHVJ8N-LJ"
   },
   "outputs": [],
   "source": [
    "cnn_model = load_model(cnn_cp_path)\n",
    "cnn_predicted_scores_raw = cnn_model.predict(data_test)"
   ]
  },
  {
   "cell_type": "code",
   "execution_count": 216,
   "metadata": {
    "colab": {
     "base_uri": "https://localhost:8080/",
     "height": 67
    },
    "colab_type": "code",
    "id": "8XPELFB2DqnL",
    "outputId": "192afc09-b616-4bd7-f917-96b8637fa5eb"
   },
   "outputs": [
    {
     "name": "stdout",
     "output_type": "stream",
     "text": [
      "[8.85106385 8.71349573 8.96917462 7.1203351  8.91907513 9.66742992\n",
      " 9.03003752 9.53282893 9.59045172 9.49869275]\n",
      "[0.79 0.75 0.79 0.67 0.79 0.96 0.71 1.   1.   0.83]\n"
     ]
    }
   ],
   "source": [
    "predicted_scores_cnn_val = cnn_model.predict(x_val)\n",
    "print(process_prediction_scores(predicted_scores_cnn_val)[-10:])\n",
    "print(y_val[-10:])"
   ]
  },
  {
   "cell_type": "code",
   "execution_count": 217,
   "metadata": {
    "colab": {
     "base_uri": "https://localhost:8080/",
     "height": 34
    },
    "colab_type": "code",
    "id": "tPIC81IpFcQo",
    "outputId": "d7e73cbf-e31c-4d9c-dd41-f155c929145f"
   },
   "outputs": [
    {
     "name": "stdout",
     "output_type": "stream",
     "text": [
      "0.0847447\n"
     ]
    }
   ],
   "source": [
    "mae = MeanAbsoluteError()\n",
    "print(mae(y_val, predicted_scores_cnn_val).numpy())"
   ]
  },
  {
   "cell_type": "code",
   "execution_count": 0,
   "metadata": {
    "colab": {},
    "colab_type": "code",
    "id": "w4pOeAHCNBtm"
   },
   "outputs": [],
   "source": [
    "sample_df = pd.read_csv(sample_path)\n",
    "sample_df['score'] = process_prediction_scores(cnn_predicted_scores_raw)\n",
    "submission_file_name = 'sample_submission_cnn.csv'\n",
    "sample_df.to_csv(submission_file_name, index=False)"
   ]
  },
  {
   "cell_type": "markdown",
   "metadata": {
    "colab_type": "text",
    "id": "r1oox_4xxuRd"
   },
   "source": [
    "## 3) Оценку с помощью рекуррентной нейронной сети и предобученного распределенного векторного представления слов."
   ]
  },
  {
   "cell_type": "code",
   "execution_count": 0,
   "metadata": {
    "colab": {},
    "colab_type": "code",
    "id": "Vc1ygfd1aKDK"
   },
   "outputs": [],
   "source": [
    "def build_rnn_model():\n",
    "    sequence_input = Input(shape=(MAX_SEQUENCE_LENGTH,), dtype='int32')\n",
    "    x = embedding_layer(sequence_input)\n",
    "    x = SpatialDropout1D(0.2)(x)\n",
    "    x = Bidirectional(LSTM(100))(x)\n",
    "    x = Dropout(0.2)(x)\n",
    "    x = Dense(512, activation='relu')(x)\n",
    "    x = BatchNormalization()(x)\n",
    "    x = Dense(1, activation='sigmoid')(x)\n",
    "    model = Model(sequence_input, x)\n",
    "\n",
    "    model.compile(loss='mean_squared_error',\n",
    "                  optimizer='rmsprop',\n",
    "                  metrics=['MAE'])\n",
    "    return model"
   ]
  },
  {
   "cell_type": "code",
   "execution_count": 199,
   "metadata": {
    "colab": {
     "base_uri": "https://localhost:8080/",
     "height": 420
    },
    "colab_type": "code",
    "id": "H8jhTYWOBvp-",
    "outputId": "e197ee30-c1e8-430e-ecb4-b289fc60044c"
   },
   "outputs": [
    {
     "name": "stdout",
     "output_type": "stream",
     "text": [
      "Model: \"model_4\"\n",
      "_________________________________________________________________\n",
      "Layer (type)                 Output Shape              Param #   \n",
      "=================================================================\n",
      "input_6 (InputLayer)         [(None, 300)]             0         \n",
      "_________________________________________________________________\n",
      "embedding (Embedding)        (None, 300, 100)          2176300   \n",
      "_________________________________________________________________\n",
      "spatial_dropout1d_2 (Spatial (None, 300, 100)          0         \n",
      "_________________________________________________________________\n",
      "bidirectional_1 (Bidirection (None, 200)               160800    \n",
      "_________________________________________________________________\n",
      "dropout_33 (Dropout)         (None, 200)               0         \n",
      "_________________________________________________________________\n",
      "dense_53 (Dense)             (None, 512)               102912    \n",
      "_________________________________________________________________\n",
      "batch_normalization_33 (Batc (None, 512)               2048      \n",
      "_________________________________________________________________\n",
      "dense_54 (Dense)             (None, 1)                 513       \n",
      "=================================================================\n",
      "Total params: 2,442,573\n",
      "Trainable params: 265,249\n",
      "Non-trainable params: 2,177,324\n",
      "_________________________________________________________________\n"
     ]
    }
   ],
   "source": [
    "rnn_model = build_rnn_model()\n",
    "rnn_model.summary()"
   ]
  },
  {
   "cell_type": "code",
   "execution_count": 0,
   "metadata": {
    "colab": {},
    "colab_type": "code",
    "id": "gNOYMTZ0b7ZK"
   },
   "outputs": [],
   "source": [
    "rnn_cp_path = 'model_rnn.hdf5'\n",
    "rnn_cp=ModelCheckpoint(rnn_cp_path,monitor='val_MAE',verbose=verbose,save_best_only=True)"
   ]
  },
  {
   "cell_type": "code",
   "execution_count": 0,
   "metadata": {
    "colab": {},
    "colab_type": "code",
    "id": "C32LduAqx1Uj"
   },
   "outputs": [],
   "source": [
    "# h_rnn=rnn_model.fit(x_train, y_train, validation_data=(x_val, y_val), \n",
    "#                   batch_size=batch_size,\n",
    "#                   epochs=epochs, verbose=verbose,\n",
    "#                   callbacks=[rnn_cp])"
   ]
  },
  {
   "cell_type": "code",
   "execution_count": 0,
   "metadata": {
    "colab": {},
    "colab_type": "code",
    "id": "OxLfDm0sbnbK"
   },
   "outputs": [],
   "source": [
    "rnn_model = load_model(rnn_cp_path)\n",
    "predicted_scores_rnn_raw = rnn_model.predict(data_test)"
   ]
  },
  {
   "cell_type": "code",
   "execution_count": 48,
   "metadata": {
    "colab": {
     "base_uri": "https://localhost:8080/",
     "height": 118
    },
    "colab_type": "code",
    "id": "qDMfMFuIdLxh",
    "outputId": "6b976a1e-5a74-4313-944b-3b4146eee3d5"
   },
   "outputs": [
    {
     "name": "stdout",
     "output_type": "stream",
     "text": [
      "[7.83671141 8.60497236 6.42666936 4.98624295 7.23378479 9.7671473\n",
      " 9.87550318 9.76940632 7.55447745 9.62080717]\n",
      "[0.71 0.96 0.58 0.29 0.71 1.   1.   1.   0.75 0.83]\n",
      "0.071407124\n",
      "625/625 [==============================] - 7s 11ms/step - loss: 0.0096 - mean_absolute_error: 0.0720\n",
      "[0.009553441777825356, 0.07198966294527054]\n"
     ]
    }
   ],
   "source": [
    "predicted_scores_rnn_val = rnn_model.predict(x_val)\n",
    "print(process_prediction_scores(predicted_scores_rnn_val)[-10:])\n",
    "print(y_val[-10:])\n",
    "\n",
    "print(mae(y_val, predicted_scores_rnn_val).numpy())\n",
    "print(rnn_model.evaluate(x_val, y_val))"
   ]
  },
  {
   "cell_type": "code",
   "execution_count": 0,
   "metadata": {
    "colab": {},
    "colab_type": "code",
    "id": "MgouN4okWYnJ"
   },
   "outputs": [],
   "source": [
    "sample_df = pd.read_csv(sample_path)\n",
    "sample_df['score'] = process_prediction_scores(predicted_scores_rnn_raw)\n",
    "submission_file_name = 'sample_submission_rnn.csv'\n",
    "sample_df.to_csv(submission_file_name, index=False)"
   ]
  },
  {
   "cell_type": "markdown",
   "metadata": {
    "colab_type": "text",
    "id": "SvBSJdZ5vvP1"
   },
   "source": [
    "![image.png](data:image/png;base64,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)"
   ]
  },
  {
   "cell_type": "markdown",
   "metadata": {
    "colab_type": "text",
    "id": "0cPwBJ4zD_N5"
   },
   "source": [
    "## 4) Модель на основе Universal Sentence Encoder."
   ]
  },
  {
   "cell_type": "code",
   "execution_count": 0,
   "metadata": {
    "colab": {},
    "colab_type": "code",
    "id": "LfSd39p5xqv2"
   },
   "outputs": [],
   "source": [
    "%%capture\n",
    "!pip3 install seaborn"
   ]
  },
  {
   "cell_type": "code",
   "execution_count": 0,
   "metadata": {
    "colab": {},
    "colab_type": "code",
    "id": "c13AVA1Y4etz"
   },
   "outputs": [],
   "source": [
    "from absl import logging\n",
    "\n",
    "import tensorflow as tf\n",
    "\n",
    "import tensorflow_hub as hub\n",
    "import os\n",
    "import seaborn as sns"
   ]
  },
  {
   "cell_type": "code",
   "execution_count": 138,
   "metadata": {
    "colab": {
     "base_uri": "https://localhost:8080/",
     "height": 34
    },
    "colab_type": "code",
    "id": "6SST2Umreqsa",
    "outputId": "e5b3cb9e-1a00-4e5b-d112-8667340dba9c"
   },
   "outputs": [
    {
     "name": "stdout",
     "output_type": "stream",
     "text": [
      "module https://tfhub.dev/google/universal-sentence-encoder-large/5 loaded\n"
     ]
    }
   ],
   "source": [
    "use = hub.load(\"https://tfhub.dev/google/universal-sentence-encoder-large/5\")"
   ]
  },
  {
   "cell_type": "code",
   "execution_count": 0,
   "metadata": {
    "colab": {},
    "colab_type": "code",
    "id": "yrzZNMEzXI8g"
   },
   "outputs": [],
   "source": [
    "X_train['concat'] = X_train[\"positive\"] + \"# \" + X_train[\"negative\"]\n",
    "X_test['concat'] = X_test[\"positive\"] + \"# \" + X_test[\"negative\"]"
   ]
  },
  {
   "cell_type": "code",
   "execution_count": 0,
   "metadata": {
    "colab": {},
    "colab_type": "code",
    "id": "7Gw5CeHaezCg"
   },
   "outputs": [],
   "source": [
    "x_train_use, x_val_use, y_train_use, y_val_use = train_test_split(X_train.concat, labels, test_size=VALIDATION_SPLIT)"
   ]
  },
  {
   "cell_type": "code",
   "execution_count": 0,
   "metadata": {
    "colab": {},
    "colab_type": "code",
    "id": "BKfyUrCdmWOv"
   },
   "outputs": [],
   "source": [
    "def embed_sentence(sent):\n",
    "    sent_pos, sent_neg = sent.split('#')\n",
    "    emb_pos = use([sent_pos])\n",
    "    emb_neg = use([sent_neg])\n",
    "    review_emb_pos = tf.reshape(emb_pos, [-1]).numpy()\n",
    "    review_emb_neg = tf.reshape(emb_neg, [-1]).numpy()\n",
    "    review_emb = np.concatenate((review_emb_pos, review_emb_neg))\n",
    "    return review_emb"
   ]
  },
  {
   "cell_type": "code",
   "execution_count": 0,
   "metadata": {
    "colab": {},
    "colab_type": "code",
    "id": "VuFcgfBYnNyU"
   },
   "outputs": [],
   "source": [
    "def embed_sentences(sents):\n",
    "    embedded_sents = []\n",
    "    counter = 0\n",
    "    sents_len = len(sents)\n",
    "    for sent in sents:\n",
    "      review_emb = embed_sentence(sent)\n",
    "      embedded_sents.append(review_emb)\n",
    "      counter+=1\n",
    "      print(f\"{counter}/{sents_len}\")\n",
    "\n",
    "    embedded_sents = np.array(embedded_sents)\n",
    "    return embedded_sents"
   ]
  },
  {
   "cell_type": "code",
   "execution_count": 453,
   "metadata": {
    "colab": {
     "base_uri": "https://localhost:8080/",
     "height": 50
    },
    "colab_type": "code",
    "id": "dl-jgOwkpize",
    "outputId": "34b82855-ba44-4e2d-fe7a-607866158f40"
   },
   "outputs": [
    {
     "name": "stdout",
     "output_type": "stream",
     "text": [
      "1/1\n",
      "(1, 1024)\n"
     ]
    }
   ],
   "source": [
    "sent = \"No positive # The worst hotel\"\n",
    "res = embed_sentences([sent])\n",
    "print(res.shape)"
   ]
  },
  {
   "cell_type": "code",
   "execution_count": 0,
   "metadata": {
    "colab": {},
    "colab_type": "code",
    "id": "WWotXLpJiDKl"
   },
   "outputs": [],
   "source": [
    "X_train_use = embed_sentences(x_train_use)"
   ]
  },
  {
   "cell_type": "code",
   "execution_count": 0,
   "metadata": {
    "colab": {},
    "colab_type": "code",
    "id": "1UCYmbjBnAtc"
   },
   "outputs": [],
   "source": [
    "X_val_use = embed_sentences(x_val_use)"
   ]
  },
  {
   "cell_type": "code",
   "execution_count": 0,
   "metadata": {
    "colab": {},
    "colab_type": "code",
    "id": "FMEGdo0Fqhcv"
   },
   "outputs": [],
   "source": [
    "X_test_use = embed_sentences(X_test.concat)"
   ]
  },
  {
   "cell_type": "code",
   "execution_count": 433,
   "metadata": {
    "colab": {
     "base_uri": "https://localhost:8080/",
     "height": 50
    },
    "colab_type": "code",
    "id": "keuj_QnSoKdi",
    "outputId": "fb8dd6ad-af9f-4ee3-ac7a-68f1d93367b3"
   },
   "outputs": [
    {
     "name": "stdout",
     "output_type": "stream",
     "text": [
      "(80000, 1024) (20000, 1024) (20000, 1024)\n",
      "(80000,) (20000,)\n"
     ]
    }
   ],
   "source": [
    "print(X_train_use.shape, X_val_use.shape, X_test_use.shape)\n",
    "print(y_train_use.shape, y_val_use.shape)"
   ]
  },
  {
   "cell_type": "code",
   "execution_count": 0,
   "metadata": {
    "colab": {},
    "colab_type": "code",
    "id": "aLJ5TKXdkj9p"
   },
   "outputs": [],
   "source": [
    "from tensorflow.keras.optimizers import RMSprop\n",
    "\n",
    "def build_use_model(lr=0.001):\n",
    "    model = tf.keras.Sequential()\n",
    "\n",
    "    model.add(Dense(256, input_shape=(X_train_use.shape[1], ), activation='relu'))\n",
    "    model.add(BatchNormalization())\n",
    "    model.add(Dropout(0.2))\n",
    "\n",
    "    model.add(Dense(128, activation='relu'))\n",
    "    model.add(BatchNormalization())\n",
    "    model.add(Dropout(0.2))\n",
    "\n",
    "    model.add(Dense(1))\n",
    "\n",
    "    model.compile(loss='mean_squared_error',\n",
    "                  optimizer=RMSprop(learning_rate=lr),\n",
    "                  metrics=['MAE'])\n",
    "    \n",
    "    return model"
   ]
  },
  {
   "cell_type": "code",
   "execution_count": 442,
   "metadata": {
    "colab": {
     "base_uri": "https://localhost:8080/",
     "height": 386
    },
    "colab_type": "code",
    "id": "4BQk9pI9o7ln",
    "outputId": "58e86564-1d04-444f-a887-474e53ff4bb9"
   },
   "outputs": [
    {
     "name": "stdout",
     "output_type": "stream",
     "text": [
      "Model: \"sequential_49\"\n",
      "_________________________________________________________________\n",
      "Layer (type)                 Output Shape              Param #   \n",
      "=================================================================\n",
      "dense_173 (Dense)            (None, 256)               262400    \n",
      "_________________________________________________________________\n",
      "batch_normalization_118 (Bat (None, 256)               1024      \n",
      "_________________________________________________________________\n",
      "dropout_115 (Dropout)        (None, 256)               0         \n",
      "_________________________________________________________________\n",
      "dense_174 (Dense)            (None, 128)               32896     \n",
      "_________________________________________________________________\n",
      "batch_normalization_119 (Bat (None, 128)               512       \n",
      "_________________________________________________________________\n",
      "dropout_116 (Dropout)        (None, 128)               0         \n",
      "_________________________________________________________________\n",
      "dense_175 (Dense)            (None, 1)                 129       \n",
      "=================================================================\n",
      "Total params: 296,961\n",
      "Trainable params: 296,193\n",
      "Non-trainable params: 768\n",
      "_________________________________________________________________\n"
     ]
    }
   ],
   "source": [
    "use_model = build_use_model()\n",
    "use_model.summary()"
   ]
  },
  {
   "cell_type": "code",
   "execution_count": 443,
   "metadata": {
    "colab": {
     "base_uri": "https://localhost:8080/",
     "height": 34
    },
    "colab_type": "code",
    "id": "CN70z8ouoye4",
    "outputId": "aef63176-f1c7-4eef-f9f5-7848029a1e5e"
   },
   "outputs": [
    {
     "name": "stdout",
     "output_type": "stream",
     "text": [
      "0.001\n"
     ]
    }
   ],
   "source": [
    "use_cp_path = 'model_use.hdf5'\n",
    "use_cp=ModelCheckpoint(use_cp_path, monitor='val_MAE', verbose=verbose, save_best_only=True)\n",
    "\n",
    "import keras.backend as K\n",
    "print(K.eval(use_model.optimizer.lr))\n",
    "\n",
    "from tensorflow.keras.callbacks import ReduceLROnPlateau\n",
    "learning_rate_reduction = ReduceLROnPlateau(monitor='val_MAE', \n",
    "                                            patience=5, \n",
    "                                            verbose=0, \n",
    "                                            factor=0.5, \n",
    "                                            min_lr=0.00005)"
   ]
  },
  {
   "cell_type": "code",
   "execution_count": 444,
   "metadata": {
    "colab": {
     "base_uri": "https://localhost:8080/",
     "height": 1000
    },
    "colab_type": "code",
    "id": "ICvEMgfzofzM",
    "outputId": "5f2b1f58-9840-4a98-fdbb-360ec9b43c38"
   },
   "outputs": [
    {
     "name": "stdout",
     "output_type": "stream",
     "text": [
      "Epoch 1/20\n",
      "614/625 [============================>.] - ETA: 0s - loss: 0.2260 - MAE: 0.2993\n",
      "Epoch 00001: val_MAE improved from inf to 0.08587, saving model to model_use.hdf5\n",
      "625/625 [==============================] - 3s 4ms/step - loss: 0.2224 - MAE: 0.2959 - val_loss: 0.0136 - val_MAE: 0.0859 - lr: 0.0010\n",
      "Epoch 2/20\n",
      "624/625 [============================>.] - ETA: 0s - loss: 0.0155 - MAE: 0.0946\n",
      "Epoch 00002: val_MAE improved from 0.08587 to 0.08184, saving model to model_use.hdf5\n",
      "625/625 [==============================] - 2s 4ms/step - loss: 0.0155 - MAE: 0.0945 - val_loss: 0.0123 - val_MAE: 0.0818 - lr: 0.0010\n",
      "Epoch 3/20\n",
      "616/625 [============================>.] - ETA: 0s - loss: 0.0125 - MAE: 0.0852\n",
      "Epoch 00003: val_MAE improved from 0.08184 to 0.07479, saving model to model_use.hdf5\n",
      "625/625 [==============================] - 2s 4ms/step - loss: 0.0125 - MAE: 0.0851 - val_loss: 0.0103 - val_MAE: 0.0748 - lr: 0.0010\n",
      "Epoch 4/20\n",
      "621/625 [============================>.] - ETA: 0s - loss: 0.0115 - MAE: 0.0819\n",
      "Epoch 00004: val_MAE did not improve from 0.07479\n",
      "625/625 [==============================] - 2s 4ms/step - loss: 0.0115 - MAE: 0.0818 - val_loss: 0.0107 - val_MAE: 0.0762 - lr: 0.0010\n",
      "Epoch 5/20\n",
      "616/625 [============================>.] - ETA: 0s - loss: 0.0109 - MAE: 0.0797\n",
      "Epoch 00005: val_MAE did not improve from 0.07479\n",
      "625/625 [==============================] - 2s 4ms/step - loss: 0.0109 - MAE: 0.0797 - val_loss: 0.0109 - val_MAE: 0.0761 - lr: 0.0010\n",
      "Epoch 6/20\n",
      "615/625 [============================>.] - ETA: 0s - loss: 0.0102 - MAE: 0.0773\n",
      "Epoch 00006: val_MAE did not improve from 0.07479\n",
      "625/625 [==============================] - 2s 4ms/step - loss: 0.0102 - MAE: 0.0773 - val_loss: 0.0114 - val_MAE: 0.0856 - lr: 0.0010\n",
      "Epoch 7/20\n",
      "615/625 [============================>.] - ETA: 0s - loss: 0.0097 - MAE: 0.0753\n",
      "Epoch 00007: val_MAE improved from 0.07479 to 0.07452, saving model to model_use.hdf5\n",
      "625/625 [==============================] - 2s 4ms/step - loss: 0.0097 - MAE: 0.0753 - val_loss: 0.0105 - val_MAE: 0.0745 - lr: 0.0010\n",
      "Epoch 8/20\n",
      "624/625 [============================>.] - ETA: 0s - loss: 0.0092 - MAE: 0.0732\n",
      "Epoch 00008: val_MAE did not improve from 0.07452\n",
      "625/625 [==============================] - 2s 4ms/step - loss: 0.0092 - MAE: 0.0732 - val_loss: 0.0109 - val_MAE: 0.0824 - lr: 0.0010\n",
      "Epoch 9/20\n",
      "624/625 [============================>.] - ETA: 0s - loss: 0.0088 - MAE: 0.0712\n",
      "Epoch 00009: val_MAE did not improve from 0.07452\n",
      "625/625 [==============================] - 2s 4ms/step - loss: 0.0088 - MAE: 0.0712 - val_loss: 0.0111 - val_MAE: 0.0845 - lr: 0.0010\n",
      "Epoch 10/20\n",
      "620/625 [============================>.] - ETA: 0s - loss: 0.0084 - MAE: 0.0698\n",
      "Epoch 00010: val_MAE did not improve from 0.07452\n",
      "625/625 [==============================] - 2s 4ms/step - loss: 0.0084 - MAE: 0.0698 - val_loss: 0.0108 - val_MAE: 0.0790 - lr: 0.0010\n",
      "Epoch 11/20\n",
      "617/625 [============================>.] - ETA: 0s - loss: 0.0081 - MAE: 0.0681\n",
      "Epoch 00011: val_MAE did not improve from 0.07452\n",
      "625/625 [==============================] - 2s 4ms/step - loss: 0.0081 - MAE: 0.0682 - val_loss: 0.0106 - val_MAE: 0.0768 - lr: 0.0010\n",
      "Epoch 12/20\n",
      "619/625 [============================>.] - ETA: 0s - loss: 0.0078 - MAE: 0.0666\n",
      "Epoch 00012: val_MAE did not improve from 0.07452\n",
      "625/625 [==============================] - 2s 4ms/step - loss: 0.0078 - MAE: 0.0666 - val_loss: 0.0111 - val_MAE: 0.0767 - lr: 0.0010\n",
      "Epoch 13/20\n",
      "625/625 [==============================] - ETA: 0s - loss: 0.0069 - MAE: 0.0625\n",
      "Epoch 00013: val_MAE did not improve from 0.07452\n",
      "625/625 [==============================] - 2s 4ms/step - loss: 0.0069 - MAE: 0.0625 - val_loss: 0.0107 - val_MAE: 0.0768 - lr: 5.0000e-04\n",
      "Epoch 14/20\n",
      "619/625 [============================>.] - ETA: 0s - loss: 0.0066 - MAE: 0.0611\n",
      "Epoch 00014: val_MAE did not improve from 0.07452\n",
      "625/625 [==============================] - 2s 4ms/step - loss: 0.0066 - MAE: 0.0611 - val_loss: 0.0108 - val_MAE: 0.0768 - lr: 5.0000e-04\n",
      "Epoch 15/20\n",
      "610/625 [============================>.] - ETA: 0s - loss: 0.0064 - MAE: 0.0604\n",
      "Epoch 00015: val_MAE did not improve from 0.07452\n",
      "625/625 [==============================] - 2s 4ms/step - loss: 0.0064 - MAE: 0.0604 - val_loss: 0.0111 - val_MAE: 0.0772 - lr: 5.0000e-04\n",
      "Epoch 16/20\n",
      "610/625 [============================>.] - ETA: 0s - loss: 0.0062 - MAE: 0.0594\n",
      "Epoch 00016: val_MAE did not improve from 0.07452\n",
      "625/625 [==============================] - 2s 4ms/step - loss: 0.0062 - MAE: 0.0594 - val_loss: 0.0112 - val_MAE: 0.0773 - lr: 5.0000e-04\n",
      "Epoch 17/20\n",
      "611/625 [============================>.] - ETA: 0s - loss: 0.0060 - MAE: 0.0585\n",
      "Epoch 00017: val_MAE did not improve from 0.07452\n",
      "625/625 [==============================] - 2s 4ms/step - loss: 0.0060 - MAE: 0.0586 - val_loss: 0.0114 - val_MAE: 0.0775 - lr: 5.0000e-04\n",
      "Epoch 18/20\n",
      "623/625 [============================>.] - ETA: 0s - loss: 0.0056 - MAE: 0.0564\n",
      "Epoch 00018: val_MAE did not improve from 0.07452\n",
      "625/625 [==============================] - 2s 4ms/step - loss: 0.0056 - MAE: 0.0564 - val_loss: 0.0112 - val_MAE: 0.0782 - lr: 2.5000e-04\n",
      "Epoch 19/20\n",
      "624/625 [============================>.] - ETA: 0s - loss: 0.0055 - MAE: 0.0556\n",
      "Epoch 00019: val_MAE did not improve from 0.07452\n",
      "625/625 [==============================] - 2s 4ms/step - loss: 0.0055 - MAE: 0.0557 - val_loss: 0.0112 - val_MAE: 0.0781 - lr: 2.5000e-04\n",
      "Epoch 20/20\n",
      "625/625 [==============================] - ETA: 0s - loss: 0.0054 - MAE: 0.0553\n",
      "Epoch 00020: val_MAE did not improve from 0.07452\n",
      "625/625 [==============================] - 2s 4ms/step - loss: 0.0054 - MAE: 0.0553 - val_loss: 0.0112 - val_MAE: 0.0789 - lr: 2.5000e-04\n"
     ]
    }
   ],
   "source": [
    "h_use = use_model.fit(\n",
    "    X_train_use, y_train_use, \n",
    "    validation_data=(X_val_use, y_val_use),\n",
    "    batch_size=batch_size,\n",
    "    verbose=verbose, epochs=20,\n",
    "    callbacks=[use_cp, learning_rate_reduction]\n",
    ")"
   ]
  },
  {
   "cell_type": "code",
   "execution_count": 0,
   "metadata": {
    "colab": {},
    "colab_type": "code",
    "id": "R5rxY_cQoxbX"
   },
   "outputs": [],
   "source": [
    "use_model = load_model(use_cp_path)\n",
    "predicted_scores_use_raw = use_model.predict(X_test_use)"
   ]
  },
  {
   "cell_type": "code",
   "execution_count": 447,
   "metadata": {
    "colab": {
     "base_uri": "https://localhost:8080/",
     "height": 118
    },
    "colab_type": "code",
    "id": "EG_rXrA_rD4U",
    "outputId": "0d3a5a02-45a2-4242-ec25-7bf9ac3260af"
   },
   "outputs": [
    {
     "name": "stdout",
     "output_type": "stream",
     "text": [
      "[ 9.78141785  5.9038347   7.02671707  9.25548673  8.86978745  8.48894894\n",
      "  8.50233912  7.40167797  9.5947504  10.        ]\n",
      "[0.88 0.75 0.79 0.83 0.83 0.75 0.92 0.67 1.   0.96]\n",
      "554\n",
      "920\n",
      "0.07939211\n"
     ]
    }
   ],
   "source": [
    "predicted_scores_use_val = use_model.predict(X_val_use)\n",
    "pr_proc = process_prediction_scores(predicted_scores_use_val)\n",
    "print(pr_proc[:10])\n",
    "print(y_val_use[:10])\n",
    "print(len(pr_proc[pr_proc < 5]))\n",
    "print(len(y_val_use[y_val_use < 0.5]))\n",
    "\n",
    "print(mae(y_val_use, predicted_scores_use_val).numpy())"
   ]
  },
  {
   "cell_type": "code",
   "execution_count": 0,
   "metadata": {
    "colab": {},
    "colab_type": "code",
    "id": "OcNrRKcXrOns"
   },
   "outputs": [],
   "source": [
    "sample_df = pd.read_csv(sample_path)\n",
    "sample_df['score'] = process_prediction_scores(predicted_scores_use_raw)\n",
    "submission_file_name = 'sample_submission_use.csv'\n",
    "sample_df.to_csv(submission_file_name, index=False)"
   ]
  },
  {
   "cell_type": "markdown",
   "metadata": {
    "colab_type": "text",
    "id": "LqB8T2vAysEG"
   },
   "source": [
    "![image.png](data:image/png;base64,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)"
   ]
  }
 ],
 "metadata": {
  "accelerator": "GPU",
  "colab": {
   "collapsed_sections": [],
   "name": "Task3.ipynb",
   "provenance": []
  },
  "kernelspec": {
   "display_name": "Python 3",
   "language": "python",
   "name": "python3"
  },
  "language_info": {
   "codemirror_mode": {
    "name": "ipython",
    "version": 3
   },
   "file_extension": ".py",
   "mimetype": "text/x-python",
   "name": "python",
   "nbconvert_exporter": "python",
   "pygments_lexer": "ipython3",
   "version": "3.7.3"
  }
 },
 "nbformat": 4,
 "nbformat_minor": 1
}
