{
 "cells": [
  {
   "cell_type": "markdown",
   "metadata": {},
   "source": [
    "Прокопенко Тимофей\n",
    "### Задача 2.\n",
    "**Решение:**<br>\n",
    "Рассматриваемое множество функций - H = {$h_\\theta=\\lceil0.5sin(\\theta x)\\rceil: \\theta \\in \\mathbb{R}$}. \n",
    "<br>Оценим значения $\\lceil0.5sin(\\theta x)\\rceil$:\n",
    "$$-1 \\leq sin(\\theta x) \\leq 1 => -0.5 \\leq 0.5sin(\\theta x) \\leq 0.5 => \\lceil0.5sin(\\theta x)\\rceil = \\{0,1\\}$$<br>\n",
    "В качестве С примем множество {$2^{-m}|m \\in \\mathbb{N}$}. Докажем, что любое его конечное подмножество может быть раскрашено H.<br>\n",
    "Предположим, что при $\\theta = -\\pi(1 + \\sum\\limits_{i=1}^m 2^i*y_i)$ выборка {$x_i,y_i$} будет всегда правильно классифицироваться для любого набора лейблов $y_i$.\n",
    "$$\\theta*x_j=\\theta*2^{-j}=-\\pi*2^{-j}*(1 + \\sum\\limits_{i=1}^m 2^i*y_i)=-\\pi*(2^{-j} + \\sum\\limits_{i=1}^{j-1} 2^{i-j}*y_i + y_j +\\sum\\limits_{i=1}^{m-j} 2^{i}*y_i)=-\\pi*(2^{-j} + \\sum\\limits_{i=1}^{j-1} 2^{-i}*y_i + y_j +\\sum\\limits_{i=1}^{m-j} 2^{i}*y_i)=-\\pi*(\\sum\\limits_{i=1}^{j} 2^{-i}*y_i + y_j +\\sum\\limits_{i=1}^{m-j} 2^{i}*y_i)$$\n",
    "Слагаемое ($-\\pi*(\\sum\\limits_{i=1}^{m-j} 2^{i}*y_i)$) может быть опущено, так как оно лишь задает периодичность синусоиды (-2$\\pi$k).\n",
    "Ограничим ($-\\pi*(\\sum\\limits_{i=1}^{j} 2^{-i}*y_i + y_j)$) снизу и сверху:\n",
    "$$-\\pi*(\\sum\\limits_{i=1}^{j} 2^{-i}*y_i + y_j)<-\\pi*y_j$$\n",
    "$$-\\pi*(\\sum\\limits_{i=1}^{j} 2^{-i}*y_i + y_j)>-\\pi*(1+y_j)$$<br>\n",
    "$$-\\pi*(1+y_j)<\\theta*x_j<-\\pi*y_j$$\n",
    "\n",
    "Допустим $y_j$ = 1: $$-2\\pi<\\theta*x_j<-\\pi => 0 <sin(\\theta*x_j) < 1 =>\\lceil0.5sin(\\theta x)\\rceil = 1$$\n",
    "При $y_j$ = 0: $$-\\pi<\\theta*x_j<0 => -1<sin(\\theta*x_j)<0 =>\\lceil0.5sin(\\theta x)\\rceil = 0$$\n",
    "\n",
    "Таким образом при любом конечном m H раскрашивает С={$2^{-m}|m \\in \\mathbb{N}$}. Таким образом dim(H)=$\\infty$."
   ]
  }
 ],
 "metadata": {
  "kernelspec": {
   "display_name": "Python 3",
   "language": "python",
   "name": "python3"
  },
  "language_info": {
   "codemirror_mode": {
    "name": "ipython",
    "version": 3
   },
   "file_extension": ".py",
   "mimetype": "text/x-python",
   "name": "python",
   "nbconvert_exporter": "python",
   "pygments_lexer": "ipython3",
   "version": "3.7.3"
  }
 },
 "nbformat": 4,
 "nbformat_minor": 2
}
