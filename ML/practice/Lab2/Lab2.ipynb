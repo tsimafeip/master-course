{
 "cells": [
  {
   "cell_type": "markdown",
   "metadata": {},
   "source": [
    "# Домашнее задание №2 по курсу \"Машинное обучение\"\n",
    "\n",
    "Прокопенко Тимофей"
   ]
  },
  {
   "cell_type": "markdown",
   "metadata": {},
   "source": [
    "### Задача 2.\n",
    "**Решение:**<br>\n",
    "а) Докажем сначала, что для любого $c \\in \\mathbb{R}$, |c| = $min_{a \\geq 0}a$, такое что $с \\leq a$ и $с \\geq -a$. <br>\n",
    "Если $с \\leq a$ и $с \\geq -a$, причем $a \\geq 0$, то $|c| \\leq a$. Из $|c| \\leq a$ при $a \\geq 0$ напрямую следует, что |c| = $min_{a \\geq 0}a$. <br> <br>\n",
    "\n",
    "б) Перейдем к задаче. Очевидно, что если нам удастся найти такое w, что $|<w,x_i> - y_i| = 0$, то задача будет решена. На практике это вряд ли достижимо, поэтому введем пороговую ошибку $\\varepsilon_i \\geq 0$ и попробуем ее минимизировать. <br>\n",
    "Используем доказанное в пункте а): <br>$$|<w,x_i> - y_i| \\leq \\varepsilon_i =>  \\begin{cases} <w,x_i> - y_i \\leq \\varepsilon_i & \\\\ <w,x_i> - y_i \\geq -\\varepsilon_i  \\end{cases} => \\begin{cases} -<w,x_i> + \\varepsilon_i \\geq -y_i & \\\\ <w,x_i> + \\varepsilon_i \\geq y_i  \\end{cases} => \\begin{cases} <[-x_i, 0 ....1_i...0],[w, \\varepsilon_1, ... \\varepsilon_m]> & \\geq -y_i & \\\\ <[x_i, 0 ....1_i...0],[w, \\varepsilon_1, ... \\varepsilon_m]> & \\geq y_i \\end{cases}$$ <br>\n",
    "\n",
    "Теперь мы можем сформулировать следующую задачу линейнего программирования: <br>\n",
    "$$max<U, w>$$\n",
    "при $$ Aw \\geq v$$\n",
    "где $$ w = (w_1, w_2, ...., w_d, \\varepsilon_1, ....\\varepsilon_m) \\in \\mathbb{R}^{d+m}$$<br>\n",
    "$$ U = (0_1, 0_2, ...., 0_d, -1_1, ....-1_m) \\in \\mathbb{R}^{d+m}$$ <br>\n",
    "$$A=\\begin{bmatrix}-x_1 & 1 & 0 & . & . & . & 0 \\\\ x_1 & 1 & 0 & . & . & . & 0 \\\\ -x_2 & 0 & 1 & . & . & . & 0 \\\\ . & . & . & . & . & . & .\\\\ . & . & . & . & . & . & .\\\\ x_m & 0 & 0 & . & . & . & 1\\end{bmatrix} \\in \\mathbb{R}^{2m\\times(d+m)}$$ <br>\n",
    "$$v=\\begin{bmatrix}-y_1\\\\ y_1 \\\\ . \\\\ .\\\\ y_m \\end{bmatrix} \\in \\mathbb{R}^{2m}$$"
   ]
  },
  {
   "cell_type": "code",
   "execution_count": null,
   "metadata": {},
   "outputs": [],
   "source": []
  }
 ],
 "metadata": {
  "kernelspec": {
   "display_name": "Python 3",
   "language": "python",
   "name": "python3"
  },
  "language_info": {
   "codemirror_mode": {
    "name": "ipython",
    "version": 3
   },
   "file_extension": ".py",
   "mimetype": "text/x-python",
   "name": "python",
   "nbconvert_exporter": "python",
   "pygments_lexer": "ipython3",
   "version": "3.7.3"
  }
 },
 "nbformat": 4,
 "nbformat_minor": 2
}
